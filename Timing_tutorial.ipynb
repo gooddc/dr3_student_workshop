{
 "cells": [
  {
   "cell_type": "markdown",
   "metadata": {
    "pycharm": {
     "name": "#%% md\n"
    }
   },
   "source": [
    "# Pulsar Timing with PINT\n",
    "\n",
    "![test.png](./images/gravitational_wave_pulsars.png)"
   ]
  },
  {
   "cell_type": "markdown",
   "metadata": {
    "pycharm": {
     "name": "#%% md\n"
    }
   },
   "source": [
    "## Introduction\n"
   ]
  },
  {
   "cell_type": "markdown",
   "metadata": {
    "pycharm": {
     "name": "#%% md\n"
    }
   },
   "source": [
    "\n",
    "\n",
    "In this exercise, you will see how different timing parameters change the timing residuals when they are slightly incorrect, and then slowly build up a good timing model. To do the analysis, you will use [PINT](https://nanograv-pint.readthedocs.io/en/latest/), a Python package to time pulsars and adjust timing models. Along the way, you'll determine some interesting astrophysics about your pulsar."
   ]
  },
  {
   "cell_type": "markdown",
   "metadata": {
    "pycharm": {
     "name": "#%% md\n"
    }
   },
   "source": [
    "# Part 0: Loading the model and the observations"
   ]
  },
  {
   "cell_type": "markdown",
   "metadata": {
    "pycharm": {
     "name": "#%% md\n"
    }
   },
   "source": [
    "First, let's import some useful packages"
   ]
  },
  {
   "cell_type": "code",
   "execution_count": 2,
   "metadata": {
    "pycharm": {
     "name": "#%%\n"
    }
   },
   "outputs": [],
   "source": [
    "from astropy import units as u, constants as c\n",
    "import astropy.time\n",
    "import numpy as np\n",
    "from matplotlib import pyplot as plt\n",
    "import matplotlib.cm as cm\n",
    "import copy\n",
    "import io\n",
    "\n",
    "from pint.residuals import Residuals\n",
    "import pint.fitter\n",
    "from pint.models import get_model\n",
    "import pint.derived_quantities\n",
    "import pint.simulation"
   ]
  },
  {
   "cell_type": "markdown",
   "metadata": {
    "pycharm": {
     "name": "#%% md\n"
    }
   },
   "source": [
    "We're going to use the functions defined below just for ease. You won't have to adjust them for any part of this exercise but can if you'd like to at any point in time.\n",
    "\n",
    "\n",
    "- `par_writer()` will write out a pulsar parameter (par) file. It will include a couple of basic lines at top and then will simply write whatever string you want to the file. We'll see more about this in a moment. By default, it will output a par file with the name \"mytiming.par\".\n",
    "\n",
    "\n",
    "- `make_toas()` will take a par file and simulate TOAs into a (tim) file. You can open the tim file if you'd like but it won't be required for this exercise. By default, it reads from a par file called \"mytiming.par\" and then will output a tim file with the name \"mytiming.tim\". You can see internally how PINT will simulate TOAs."
   ]
  },
  {
   "cell_type": "code",
   "execution_count": 1,
   "metadata": {
    "pycharm": {
     "name": "#%%\n"
    }
   },
   "outputs": [],
   "source": [
    "# Helper functions\n",
    "def par_writer(string,basename='./pars/mytiming'): # can set 'basename' when calling par_writer change the file name\n",
    "    # first, a few basic lines at the top of the par file\n",
    "\n",
    "\n",
    "    if 'RAJ' in string:\n",
    "        output = \"\"\"MODE 1\n",
    "        PSRJ            J0000+0000'\n",
    "        PEPOCH          50000.0\n",
    "        \"\"\"\n",
    "    else:\n",
    "        output = \"\"\"MODE 1\n",
    "        PSRJ            J0000+0000'\n",
    "        PEPOCH          50000.0\n",
    "        RAJ             19:09:00\n",
    "        DECJ            -37:44:00\n",
    "        \"\"\"\n",
    "    # 'MODE 1' tells tempo2 to take into account TOA errors while fitting\n",
    "    # 'PSR J0000+0000' is the name of our fake pulsar\n",
    "    # 'PEPOCH' is the date (in MJD) to which the other parameters in the par file will be referenced\n",
    "    # i.e., the spin frequency we give is the spin frequency on MJD 50000.0\n",
    "\n",
    "    output += string\n",
    "    with open(basename+\".par\",'w') as FILE:\n",
    "        FILE.write(output)\n",
    "\n",
    "def make_toas(timing_model, basename=\"./pars/mytiming\"):\n",
    "#    tstart = astropy.time.Time(1995, format=\"jyear\")\n",
    "#    tstop = astropy.time.Time(2009, format=\"jyear\")\n",
    "    tstart = astropy.time.Time(53000, format=\"mjd\")\n",
    "    tstop = astropy.time.Time(56000, format=\"mjd\")\n",
    "    # this is the error on each TOA\n",
    "    error = 0.1 * u.us\n",
    "    # this is a guess\n",
    "    Ntoa = 215\n",
    "    # make the new TOAs.  Note that even though `error` is passed, the TOAs\n",
    "    # start out perfect\n",
    "    toas = pint.simulation.make_fake_toas_uniform(\n",
    "        tstart.mjd * u.d, tstop.mjd * u.d, Ntoa, model=timing_model, obs=\"ARECIBO\", error=error\n",
    "    )\n",
    "    # So we have to still add in some noise\n",
    "    toas.adjust_TOAs(astropy.time.TimeDelta(np.random.normal(size=len(toas)) * error))\n",
    "\n",
    "    toas.write_TOA_file(basename + \".tim\")\n",
    "    return toas"
   ]
  },
  {
   "cell_type": "markdown",
   "metadata": {
    "pycharm": {
     "name": "#%% md\n"
    }
   },
   "source": [
    "Create a timing model for a fake pulsar using the `par_writer` function we just defined."
   ]
  },
  {
   "cell_type": "code",
   "execution_count": 3,
   "metadata": {
    "pycharm": {
     "name": "#%%\n"
    }
   },
   "outputs": [],
   "source": [
    "# par file for our fake pulsar\n",
    "par_writer(\"\"\"\n",
    "F0              66.66666667\n",
    "\"\"\")"
   ]
  },
  {
   "cell_type": "markdown",
   "metadata": {
    "pycharm": {
     "name": "#%% md\n"
    }
   },
   "source": [
    "This will create a file called `\"mytiming.par\"` inside of the `pars` folder. Now we need to load it into PINT using `get_model( )`. You do it!"
   ]
  },
  {
   "cell_type": "code",
   "execution_count": 4,
   "metadata": {
    "pycharm": {
     "name": "#%%\n"
    }
   },
   "outputs": [],
   "source": [
    "# SOME SPACE FOR YOU TO WORK\n",
    "# load the model into PINT\n",
    "\n",
    "timing_model = get_model('./pars/mytiming.par')"
   ]
  },
  {
   "cell_type": "markdown",
   "metadata": {
    "pycharm": {
     "name": "#%% md\n"
    }
   },
   "source": [
    "Create a series of fake observations (TOAs) for the pulsar"
   ]
  },
  {
   "cell_type": "code",
   "execution_count": 8,
   "metadata": {},
   "outputs": [
    {
     "data": {
      "text/plain": [
       "'0.9.3'"
      ]
     },
     "execution_count": 8,
     "metadata": {},
     "output_type": "execute_result"
    }
   ],
   "source": [
    "pint.__version__"
   ]
  },
  {
   "cell_type": "code",
   "execution_count": 7,
   "metadata": {
    "pycharm": {
     "name": "#%%\n"
    }
   },
   "outputs": [
    {
     "name": "stderr",
     "output_type": "stream",
     "text": [
      "2023-03-25 21:48:39.182 | DEBUG    | pint.toa:__init__:1327 - No pulse number flags found in the TOAs\n",
      "2023-03-25 21:48:39.183 | DEBUG    | pint.toa:apply_clock_corrections:2132 - Applying clock corrections (include_gps = True, include_bipm = False)\n",
      "2023-03-25 21:48:39.194 | INFO     | pint.observatory:gps_correction:217 - Applying GPS to UTC clock correction (~few nanoseconds)\n",
      "2023-03-25 21:48:39.195 | INFO     | pint.observatory:_load_gps_clock:94 - Loading global GPS clock file\n",
      "2023-03-25 21:48:39.198 | DEBUG    | pint.observatory.clock_file:__init__:803 - Global clock file gps2utc.clk saving kwargs={'bogus_last_correction': False, 'valid_beyond_ends': False}\n",
      "2023-03-25 21:48:39.200 | DEBUG    | pint.observatory.clock_file:read_tempo2_clock_file:460 - Loading TEMPO2-format observatory clock correction file gps2utc.clk (/home/jovyan/.astropy/cache/download/url/d3c81b5766f4bfb84e65504c8a453085/contents) with bogus_last_correction=False\n",
      "2023-03-25 21:48:39.222 | INFO     | pint.observatory:find_clock_file:938 - Using global clock file for gps2utc.clk with bogus_last_correction=False\n",
      "2023-03-25 21:48:39.224 | DEBUG    | pint.observatory.clock_file:__init__:803 - Global clock file time_ao.dat saving kwargs={'bogus_last_correction': False, 'valid_beyond_ends': False}\n",
      "2023-03-25 21:48:39.226 | INFO     | pint.observatory.global_clock_corrections:get_file:129 - File tempo/clock/time_ao.dat to be downloaded due to download policy if_missing: https://raw.githubusercontent.com/ipta/pulsar-clock-corrections/main/tempo/clock/time_ao.dat\n",
      "2023-03-25 21:48:39.426 | DEBUG    | pint.observatory.clock_file:read_tempo_clock_file:604 - Loading TEMPO-format observatory clock correction file time_ao.dat (/home/jovyan/.astropy/cache/download/url/36fe8d7a16ab23eeb27a998de5b7eea4/contents) with bogus_last_correction=False\n",
      "2023-03-25 21:48:39.450 | INFO     | pint.observatory:find_clock_file:938 - Using global clock file for time_ao.dat with bogus_last_correction=False\n",
      "2023-03-25 21:48:39.451 | INFO     | pint.observatory.topo_obs:clock_corrections:355 - Applying observatory clock corrections for observatory='arecibo'.\n",
      "2023-03-25 21:48:39.535 | DEBUG    | pint.toa:compute_TDBs:2182 - Computing TDB columns.\n",
      "2023-03-25 21:48:39.535 | WARNING  | pint.toa:compute_TDBs:2194 - No ephemeris provided to TOAs object or compute_TDBs. Using DE421\n",
      "2023-03-25 21:48:39.536 | DEBUG    | pint.toa:compute_TDBs:2207 - Using EPHEM = DE421 for TDB calculation.\n",
      "2023-03-25 21:48:39.563 | DEBUG    | pint.toa:compute_posvels:2298 - Computing PosVels of observatories and Earth, using DE421\n",
      "2023-03-25 21:48:39.846 | INFO     | pint.solar_system_ephemerides:_load_kernel_link:53 - Set solar system ephemeris to de421 from download\n",
      "2023-03-25 21:48:40.431 | DEBUG    | pint.toa:compute_posvels:2353 - SSB obs pos [-1.16665305e+10  1.34134996e+11  5.81445365e+10] m\n",
      "2023-03-25 21:48:40.706 | INFO     | pint.solar_system_ephemerides:_load_kernel_link:53 - Set solar system ephemeris to de421 from download\n",
      "2023-03-25 21:48:40.708 | DEBUG    | pint.toa:compute_posvels:2367 - Adding columns ssb_obs_pos ssb_obs_vel obs_sun_pos\n",
      "2023-03-25 21:48:40.747 | INFO     | pint.models.absolute_phase:validate:68 - The TZRSITE is set at the solar system barycenter.\n",
      "2023-03-25 21:48:40.748 | INFO     | pint.models.absolute_phase:validate:72 - TZRFRQ was 0.0 or None. Setting to infinite frequency.\n",
      "2023-03-25 21:48:40.748 | DEBUG    | pint.models.absolute_phase:get_TZR_toa:97 - Creating and dealing with the single TZR_toa for absolute phase\n",
      "2023-03-25 21:48:40.750 | DEBUG    | pint.toa:__init__:1327 - No pulse number flags found in the TOAs\n",
      "2023-03-25 21:48:40.750 | DEBUG    | pint.toa:apply_clock_corrections:2132 - Applying clock corrections (include_gps = True, include_bipm = False)\n",
      "2023-03-25 21:48:40.751 | INFO     | pint.observatory:gps_correction:217 - Applying GPS to UTC clock correction (~few nanoseconds)\n",
      "2023-03-25 21:48:40.753 | DEBUG    | pint.toa:compute_TDBs:2182 - Computing TDB columns.\n",
      "2023-03-25 21:48:40.753 | DEBUG    | pint.toa:compute_TDBs:2207 - Using EPHEM = DE421 for TDB calculation.\n",
      "2023-03-25 21:48:40.754 | DEBUG    | pint.toa:compute_posvels:2298 - Computing PosVels of observatories and Earth, using DE421\n",
      "2023-03-25 21:48:40.755 | DEBUG    | pint.toa:compute_posvels:2353 - SSB obs pos [0. 0. 0.] m\n",
      "2023-03-25 21:48:41.033 | INFO     | pint.solar_system_ephemerides:_load_kernel_link:53 - Set solar system ephemeris to de421 from download\n",
      "2023-03-25 21:48:41.034 | DEBUG    | pint.toa:compute_posvels:2367 - Adding columns ssb_obs_pos ssb_obs_vel obs_sun_pos\n",
      "2023-03-25 21:48:41.035 | DEBUG    | pint.models.absolute_phase:get_TZR_toa:110 - Done with TZR_toa\n",
      "2023-03-25 21:48:41.036 | DEBUG    | pint.models.solar_system_shapiro:solar_system_shapiro_delay:102 - Skipping Shapiro delay for Barycentric TOAs\n",
      "2023-03-25 21:48:41.045 | DEBUG    | pint.models.solar_system_shapiro:solar_system_shapiro_delay:102 - Skipping Shapiro delay for Barycentric TOAs\n",
      "2023-03-25 21:48:41.107 | DEBUG    | pint.toa:compute_TDBs:2182 - Computing TDB columns.\n",
      "2023-03-25 21:48:41.108 | DEBUG    | pint.toa:compute_TDBs:2184 - tdb column already exists. Deleting...\n",
      "2023-03-25 21:48:41.108 | DEBUG    | pint.toa:compute_TDBs:2187 - tdbld column already exists. Deleting...\n",
      "2023-03-25 21:48:41.109 | DEBUG    | pint.toa:compute_TDBs:2207 - Using EPHEM = DE421 for TDB calculation.\n",
      "2023-03-25 21:48:41.136 | DEBUG    | pint.toa:compute_posvels:2298 - Computing PosVels of observatories and Earth, using DE421\n",
      "2023-03-25 21:48:41.136 | DEBUG    | pint.toa:compute_posvels:2305 - Column ssb_obs_pos already exists. Removing...\n",
      "2023-03-25 21:48:41.137 | DEBUG    | pint.toa:compute_posvels:2305 - Column ssb_obs_vel already exists. Removing...\n",
      "2023-03-25 21:48:41.137 | DEBUG    | pint.toa:compute_posvels:2305 - Column obs_sun_pos already exists. Removing...\n",
      "2023-03-25 21:48:41.419 | INFO     | pint.solar_system_ephemerides:_load_kernel_link:53 - Set solar system ephemeris to de421 from download\n",
      "2023-03-25 21:48:41.452 | DEBUG    | pint.toa:compute_posvels:2353 - SSB obs pos [-1.16665304e+10  1.34134996e+11  5.81445365e+10] m\n",
      "2023-03-25 21:48:41.732 | INFO     | pint.solar_system_ephemerides:_load_kernel_link:53 - Set solar system ephemeris to de421 from download\n",
      "2023-03-25 21:48:41.734 | DEBUG    | pint.toa:compute_posvels:2367 - Adding columns ssb_obs_pos ssb_obs_vel obs_sun_pos\n",
      "2023-03-25 21:48:41.740 | DEBUG    | pint.models.solar_system_shapiro:solar_system_shapiro_delay:102 - Skipping Shapiro delay for Barycentric TOAs\n",
      "2023-03-25 21:48:41.796 | DEBUG    | pint.toa:compute_TDBs:2182 - Computing TDB columns.\n",
      "2023-03-25 21:48:41.796 | DEBUG    | pint.toa:compute_TDBs:2184 - tdb column already exists. Deleting...\n",
      "2023-03-25 21:48:41.797 | DEBUG    | pint.toa:compute_TDBs:2187 - tdbld column already exists. Deleting...\n",
      "2023-03-25 21:48:41.797 | DEBUG    | pint.toa:compute_TDBs:2207 - Using EPHEM = DE421 for TDB calculation.\n",
      "2023-03-25 21:48:41.824 | DEBUG    | pint.toa:compute_posvels:2298 - Computing PosVels of observatories and Earth, using DE421\n",
      "2023-03-25 21:48:41.825 | DEBUG    | pint.toa:compute_posvels:2305 - Column ssb_obs_pos already exists. Removing...\n",
      "2023-03-25 21:48:41.825 | DEBUG    | pint.toa:compute_posvels:2305 - Column ssb_obs_vel already exists. Removing...\n",
      "2023-03-25 21:48:41.826 | DEBUG    | pint.toa:compute_posvels:2305 - Column obs_sun_pos already exists. Removing...\n",
      "2023-03-25 21:48:42.106 | INFO     | pint.solar_system_ephemerides:_load_kernel_link:53 - Set solar system ephemeris to de421 from download\n",
      "2023-03-25 21:48:42.138 | DEBUG    | pint.toa:compute_posvels:2353 - SSB obs pos [-1.16665304e+10  1.34134996e+11  5.81445365e+10] m\n",
      "2023-03-25 21:48:42.435 | INFO     | pint.solar_system_ephemerides:_load_kernel_link:53 - Set solar system ephemeris to de421 from download\n",
      "2023-03-25 21:48:42.437 | DEBUG    | pint.toa:compute_posvels:2367 - Adding columns ssb_obs_pos ssb_obs_vel obs_sun_pos\n",
      "2023-03-25 21:48:42.443 | DEBUG    | pint.models.solar_system_shapiro:solar_system_shapiro_delay:102 - Skipping Shapiro delay for Barycentric TOAs\n",
      "2023-03-25 21:48:42.499 | DEBUG    | pint.toa:compute_TDBs:2182 - Computing TDB columns.\n",
      "2023-03-25 21:48:42.500 | DEBUG    | pint.toa:compute_TDBs:2184 - tdb column already exists. Deleting...\n",
      "2023-03-25 21:48:42.500 | DEBUG    | pint.toa:compute_TDBs:2187 - tdbld column already exists. Deleting...\n",
      "2023-03-25 21:48:42.501 | DEBUG    | pint.toa:compute_TDBs:2207 - Using EPHEM = DE421 for TDB calculation.\n",
      "2023-03-25 21:48:42.527 | DEBUG    | pint.toa:compute_posvels:2298 - Computing PosVels of observatories and Earth, using DE421\n",
      "2023-03-25 21:48:42.528 | DEBUG    | pint.toa:compute_posvels:2305 - Column ssb_obs_pos already exists. Removing...\n",
      "2023-03-25 21:48:42.529 | DEBUG    | pint.toa:compute_posvels:2305 - Column ssb_obs_vel already exists. Removing...\n",
      "2023-03-25 21:48:42.529 | DEBUG    | pint.toa:compute_posvels:2305 - Column obs_sun_pos already exists. Removing...\n",
      "2023-03-25 21:48:42.804 | INFO     | pint.solar_system_ephemerides:_load_kernel_link:53 - Set solar system ephemeris to de421 from download\n",
      "2023-03-25 21:48:42.836 | DEBUG    | pint.toa:compute_posvels:2353 - SSB obs pos [-1.16665304e+10  1.34134996e+11  5.81445365e+10] m\n",
      "2023-03-25 21:48:43.111 | INFO     | pint.solar_system_ephemerides:_load_kernel_link:53 - Set solar system ephemeris to de421 from download\n",
      "2023-03-25 21:48:43.113 | DEBUG    | pint.toa:compute_posvels:2367 - Adding columns ssb_obs_pos ssb_obs_vel obs_sun_pos\n"
     ]
    }
   ],
   "source": [
    "toas = make_toas(timing_model)"
   ]
  },
  {
   "cell_type": "markdown",
   "metadata": {
    "pycharm": {
     "name": "#%% md\n"
    }
   },
   "source": [
    "Now let's use `PINT` to calculate the residuals and the `matplotlib` to show how well the spin period fits the TOAs."
   ]
  },
  {
   "cell_type": "code",
   "execution_count": 9,
   "metadata": {
    "pycharm": {
     "name": "#%%\n"
    }
   },
   "outputs": [
    {
     "ename": "SyntaxError",
     "evalue": "invalid syntax (1093314792.py, line 3)",
     "output_type": "error",
     "traceback": [
      "\u001b[0;36m  Input \u001b[0;32mIn [9]\u001b[0;36m\u001b[0m\n\u001b[0;31m    rs =                                                   # Calculate the residuals\u001b[0m\n\u001b[0m                                                           ^\u001b[0m\n\u001b[0;31mSyntaxError\u001b[0m\u001b[0;31m:\u001b[0m invalid syntax\n"
     ]
    }
   ],
   "source": [
    "# SOME SPACE FOR YOU TO WORK\n",
    "\n",
    "rs =  Residuals()                                                 # Calculate the residuals\n",
    "\n",
    "xt = toas.get_mjds()                                   # Dates of the observations\n",
    "plt.figure()\n",
    "plt.plot(xt, rs, \"x\")\n",
    "plt.title(\"%s Pre-Fit Timing Residuals\" % timing_model.PSR.value)\n",
    "plt.xlabel(\"MJD\")\n",
    "plt.ylabel(\"Residual (phase)\")\n",
    "plt.grid()\n",
    "plt.show()"
   ]
  },
  {
   "cell_type": "markdown",
   "metadata": {
    "pycharm": {
     "name": "#%% md\n"
    }
   },
   "source": [
    "What do you notice about the residuals? Do you think this is a reasonable fit? Why or why not?"
   ]
  },
  {
   "cell_type": "markdown",
   "metadata": {
    "pycharm": {
     "name": "#%% md\n"
    }
   },
   "source": [
    "## Part 1: Fitting the spin"
   ]
  },
  {
   "cell_type": "markdown",
   "metadata": {
    "pycharm": {
     "name": "#%% md\n"
    }
   },
   "source": [
    "Now let's see what happens when we change the spin frequency ever so slightly. Try taking the code below and adding just 10 nanohertz to the spin frequency (1 to the last digit above)"
   ]
  },
  {
   "cell_type": "code",
   "execution_count": null,
   "metadata": {
    "pycharm": {
     "name": "#%%\n"
    }
   },
   "outputs": [],
   "source": [
    "# SOME SPACE FOR YOU TO WORK\n",
    "\n",
    "par_writer(\"\"\"\n",
    "\n",
    "\n",
    "\n",
    "\"\"\")\n",
    "\n",
    "# no need to make a new tim file, we want to use the TOAs that we made already\n",
    "# load the model into PINT\n",
    "timing_model = get_model(\"./pars/mytiming.par\")"
   ]
  },
  {
   "cell_type": "markdown",
   "metadata": {
    "pycharm": {
     "name": "#%% md\n"
    }
   },
   "source": [
    "Now let's observe how the residuals change"
   ]
  },
  {
   "cell_type": "code",
   "execution_count": null,
   "metadata": {
    "pycharm": {
     "name": "#%%\n"
    }
   },
   "outputs": [],
   "source": [
    "# SOME SPACE FOR YOU TO WORK\n",
    "\n",
    "\n"
   ]
  },
  {
   "cell_type": "markdown",
   "metadata": {
    "pycharm": {
     "name": "#%% md\n"
    }
   },
   "source": [
    "What do you notice is happening? Why is the pattern like that?"
   ]
  },
  {
   "cell_type": "markdown",
   "metadata": {
    "pycharm": {
     "name": "#%% md\n"
    }
   },
   "source": [
    "Now let's learn how to fit the parameter for the spin period. To do this, we add a \"1\" after the value of the parameter, which for par files means that the parameter should be fit for. A \"0\" means to hold that value fixed, which is the same as not having a number there at all as we've been doing."
   ]
  },
  {
   "cell_type": "code",
   "execution_count": null,
   "metadata": {
    "pycharm": {
     "name": "#%%\n"
    }
   },
   "outputs": [],
   "source": [
    "# SOME SPACE FOR YOU TO WORK\n",
    "\n",
    "par_writer(\"\"\"\n",
    "\n",
    "\n",
    "\n",
    "\"\"\")\n",
    "\n",
    "# no need to make a new tim file, we want to use the TOAs that we made already\n",
    "# load the model into PINT\n",
    "timing_model = get_model(\"./pars/mytiming.par\")"
   ]
  },
  {
   "cell_type": "markdown",
   "metadata": {
    "pycharm": {
     "name": "#%% md\n"
    }
   },
   "source": [
    "To do the fit we run $\\texttt{pint.fitter}$ and choose the fitting algorithm (in this case, GLS), like so:"
   ]
  },
  {
   "cell_type": "code",
   "execution_count": null,
   "metadata": {
    "pycharm": {
     "name": "#%%\n"
    }
   },
   "outputs": [],
   "source": [
    "# SOME SPACE FOR YOU TO WORK\n",
    "\n",
    "# Let's tell PINT to perform the fit using the Generalized Least Squares (GLS) fitter.\n",
    "fit =\n",
    "\n",
    "# Perform the actual fit\n",
    "fit.fit_toas()\n",
    "\n",
    "# You can look at the new residuals simply by using .plot() on the fit object\n",
    "fit.plot()"
   ]
  },
  {
   "cell_type": "markdown",
   "metadata": {
    "pycharm": {
     "name": "#%% md\n"
    }
   },
   "source": [
    "How well did the fit do? To see what the value of the spin period is, you have to print out the value of the spin frequency, which is  $1/P$ , since that is the more fundamental quantity. To show that value, print $\\texttt{.get_allparams()[\"F0\"]}$. In general, you can print $\\texttt{.get_allparams()[\"parameter-name\"]}$. Try that below."
   ]
  },
  {
   "cell_type": "code",
   "execution_count": null,
   "metadata": {
    "pycharm": {
     "name": "#%%\n"
    }
   },
   "outputs": [],
   "source": [
    "print(fit.get_allparams()['F0'])"
   ]
  },
  {
   "cell_type": "markdown",
   "metadata": {
    "pycharm": {
     "name": "#%% md\n"
    }
   },
   "source": [
    "We can easily write down the fitted timing into a .par file using the $\\texttt{.model.as_parfile()}$ attribute of the $\\texttt{fitter}$ class."
   ]
  },
  {
   "cell_type": "code",
   "execution_count": null,
   "metadata": {
    "pycharm": {
     "name": "#%%\n"
    }
   },
   "outputs": [],
   "source": [
    "# This is what the .par file will look like\n",
    "print(fit.model.as_parfile(include_info=False, format=\"tempo2\"))\n",
    "# Write the .par file\n",
    "with open('fitted_model.par', 'w') as f:\n",
    "    f.write(fit.model.as_parfile())"
   ]
  },
  {
   "cell_type": "markdown",
   "metadata": {
    "pycharm": {
     "name": "#%% md\n"
    }
   },
   "source": [
    "## Part 2: fitting the spin-down"
   ]
  },
  {
   "cell_type": "markdown",
   "metadata": {
    "pycharm": {
     "name": "#%% md\n"
    }
   },
   "source": [
    "We know that since the radiation beams of pulsars are powered by rotation, they are losing rotational energy and thus are slowing down. The spin frequency derivative,  $\\dot{f}$, is written in the par file as $\\texttt{F1}$. The units of $\\dot{f}$ are typically hertz per second, that is, how many hertz the pulsar is slowing down every second. As you might expect, it's a very tiny number. Let's first build our new par file and make a new set of TOAs.\n",
    "\n"
   ]
  },
  {
   "cell_type": "code",
   "execution_count": null,
   "metadata": {
    "pycharm": {
     "name": "#%%\n"
    }
   },
   "outputs": [],
   "source": [
    "# SOME SPACE FOR YOU TO WORK\n",
    "\n",
    "par_writer(\"\"\"\n",
    "\n",
    "\n",
    "\n",
    "\"\"\")\n",
    "\n",
    "# load the model into PINT\n",
    "timing_model = get_model(\"./pars/mytiming.par\")\n",
    "\n",
    "# create the observations\n",
    "toas = make_toas(timing_model)"
   ]
  },
  {
   "cell_type": "markdown",
   "metadata": {
    "pycharm": {
     "name": "#%% md\n"
    }
   },
   "source": [
    "Let's make a plot to see how the residuals look"
   ]
  },
  {
   "cell_type": "code",
   "execution_count": null,
   "metadata": {
    "pycharm": {
     "name": "#%%\n"
    }
   },
   "outputs": [],
   "source": [
    "# SOME SPACE FOR YOU TO WORK\n",
    "\n"
   ]
  },
  {
   "cell_type": "markdown",
   "metadata": {
    "pycharm": {
     "name": "#%% md\n"
    }
   },
   "source": [
    "Next, now change the spin frequency derivative ever so slightly, from  $−1 \\times 10^{−19}$  to  $−2 \\times 10^{−19}$."
   ]
  },
  {
   "cell_type": "code",
   "execution_count": null,
   "metadata": {
    "pycharm": {
     "name": "#%%\n"
    }
   },
   "outputs": [],
   "source": [
    "# SOME SPACE FOR YOU TO WORK\n",
    "par_writer(\"\"\"\n",
    "\n",
    "\n",
    "\n",
    "\"\"\")\n",
    "\n",
    "# no need to make a new tim file, we want to use the TOAs that we made already\n",
    "# load the model into PINT\n",
    "timing_model = get_model(\"./pars/mytiming.par\")\n",
    "\n",
    "# Now let's observe how the residuals change\n",
    "rs =\n",
    "\n",
    "plt.plot(xt, rs, \"x\")\n",
    "plt.show()"
   ]
  },
  {
   "cell_type": "markdown",
   "metadata": {
    "pycharm": {
     "name": "#%% md\n"
    }
   },
   "source": [
    "What do you notice about the shape of the residuals? When $\\dot{f}$  is incorrect, do the residuals look the same as when $\\dot{f}$ is correct?"
   ]
  },
  {
   "cell_type": "markdown",
   "metadata": {
    "pycharm": {
     "name": "#%% md\n"
    }
   },
   "source": [
    "Now try to fit both parameters and print the values of the parameters. First we need to tell PINT to which parameters must be fit. Remember to use a \"1\" after the parameter value so PINT will know it must be fit for!"
   ]
  },
  {
   "cell_type": "code",
   "execution_count": null,
   "metadata": {
    "pycharm": {
     "name": "#%%\n"
    }
   },
   "outputs": [],
   "source": [
    "# Some space for you to work\n",
    "par_writer(\"\"\"\n",
    "\n",
    "\n",
    "\n",
    "\"\"\")\n",
    "\n",
    "# no need to make a new tim file, we want to use the TOAs that we made already\n",
    "# load the model into PINT\n",
    "timing_model = get_model(\"./pars/mytiming.par\")"
   ]
  },
  {
   "cell_type": "markdown",
   "metadata": {
    "pycharm": {
     "name": "#%% md\n"
    }
   },
   "source": [
    "Let's tell PINT to perform the fit using the Generalized Least Squares (GLS) fitter."
   ]
  },
  {
   "cell_type": "code",
   "execution_count": null,
   "metadata": {
    "pycharm": {
     "name": "#%%\n"
    }
   },
   "outputs": [],
   "source": [
    "# SOME SPACE FOR YOU TO WORK\n",
    "\n",
    "\n"
   ]
  },
  {
   "cell_type": "markdown",
   "metadata": {
    "pycharm": {
     "name": "#%% md\n"
    }
   },
   "source": [
    "How do the fitted values compare to the true values? Is the fit good?"
   ]
  },
  {
   "cell_type": "code",
   "execution_count": null,
   "metadata": {
    "pycharm": {
     "name": "#%%\n"
    }
   },
   "outputs": [],
   "source": [
    "# You can look at the new residuals simply by using .plot() on the fit object\n",
    "fit.plot()\n",
    "\n",
    "# Let's look at the fitted values\n",
    "print(fit.get_allparams()['     '])"
   ]
  },
  {
   "cell_type": "markdown",
   "metadata": {
    "pycharm": {
     "name": "#%% md\n"
    }
   },
   "source": [
    "## Part 3: fitting the pulsar position"
   ]
  },
  {
   "cell_type": "markdown",
   "metadata": {
    "pycharm": {
     "name": "#%% md\n"
    }
   },
   "source": [
    "Great, now you are an expert timer! Let's now add in the position of the pulsar. We can find the right ascension (RA; hours:minutes:seconds) and declination (DEC; degrees:arcminutes:arcseconds) of one of NANOGrav's best pulsars (in the J2000 coordinate system) by adding to the $\\texttt{.par}$ file\n",
    "`RAJ    19:09:00`\n",
    "and\n",
    "`DECJ    -37:44:00`.\n",
    "\n",
    "Copy the code above, make a new par and tim file, and plot the results. As usual, you should start off with a good fit."
   ]
  },
  {
   "cell_type": "code",
   "execution_count": null,
   "metadata": {
    "pycharm": {
     "name": "#%%\n"
    }
   },
   "outputs": [],
   "source": [
    "# SOME SPACE FOR YOU TO WORK\n",
    "par_writer(\"\"\"\n",
    "\n",
    "\n",
    "\n",
    "\"\"\")\n",
    "\n",
    "# load the model into PINT\n",
    "timing_model = get_model(\"./pars/mytiming.par\")\n",
    "\n",
    "# create the observations\n",
    "toas = make_toas(timing_model)"
   ]
  },
  {
   "cell_type": "markdown",
   "metadata": {
    "pycharm": {
     "name": "#%% md\n"
    }
   },
   "source": [
    "As usual, when using the right values for these parameters you should start off with a good fit:"
   ]
  },
  {
   "cell_type": "code",
   "execution_count": null,
   "metadata": {
    "pycharm": {
     "name": "#%%\n"
    }
   },
   "outputs": [],
   "source": [
    "# SOME SPACE FOR YOU TO WORK\n",
    "\n",
    "\n"
   ]
  },
  {
   "cell_type": "markdown",
   "metadata": {
    "pycharm": {
     "name": "#%% md\n"
    }
   },
   "source": [
    "Now add 1 milliarcsecond (0.001\") to the declination and see how that affects the residuals.\n",
    "\n"
   ]
  },
  {
   "cell_type": "code",
   "execution_count": null,
   "metadata": {
    "pycharm": {
     "name": "#%%\n"
    }
   },
   "outputs": [],
   "source": [
    "# SOME SPACE FOR YOU TO WORK\n",
    "\n",
    "# Some space for you to work\n",
    "par_writer(\"\"\"\n",
    "\n",
    "\n",
    "\"\"\")\n",
    "\n",
    "# load the model into PINT\n",
    "timing_model = get_model(\"./pars/mytiming.par\")"
   ]
  },
  {
   "cell_type": "markdown",
   "metadata": {
    "pycharm": {
     "name": "#%% md\n"
    }
   },
   "source": [
    "Now let's observe how the residuals change"
   ]
  },
  {
   "cell_type": "code",
   "execution_count": null,
   "metadata": {
    "pycharm": {
     "name": "#%%\n"
    }
   },
   "outputs": [],
   "source": [
    "\n",
    "\n",
    "\n",
    "\n"
   ]
  },
  {
   "cell_type": "markdown",
   "metadata": {
    "pycharm": {
     "name": "#%% md\n"
    }
   },
   "source": [
    "What do you notice about the fit? What is the timescale of the variation? Any ideas why?\n",
    "\n"
   ]
  },
  {
   "cell_type": "code",
   "execution_count": null,
   "metadata": {
    "pycharm": {
     "name": "#%%\n"
    }
   },
   "outputs": [],
   "source": [
    "# SOME SPACE FOR YOU TO WORK\n",
    "\n",
    "plt.xlim([xt[0], xt[int(len(xt)/5)]])\n",
    "plt.vlines(      , -1, 1, linestyles =\"dotted\", colors =\"r\")\n",
    "plt.vlines(       , -1, 1, linestyles =\"dotted\", colors =\"g\")\n",
    "plt.plot(xt, rs, \"x\")\n",
    "plt.show()"
   ]
  },
  {
   "cell_type": "markdown",
   "metadata": {
    "pycharm": {
     "name": "#%% md\n"
    }
   },
   "source": [
    "If you would like to investigate the residuals more closely, you can use\n",
    "\n",
    "`toas.get_mjds()`\n",
    "\n",
    "to get the dates of the observations,\n",
    "\n",
    "`Residuals(toas, timing_model).phase_resids`\n",
    "\n",
    "to get the value of the residuals, and\n",
    "\n",
    "`Residuals(toas, timing_model).get_data_error`\n",
    "\n",
    "in case you need the error bars (which will all be the same for this exercise by construction). Feel free to use numpy and matplotlib to investigate further."
   ]
  },
  {
   "cell_type": "markdown",
   "metadata": {
    "pycharm": {
     "name": "#%% md\n"
    }
   },
   "source": [
    "Again, let's now fit for all of the parameters. Do you get a good fit at the end?"
   ]
  },
  {
   "cell_type": "code",
   "execution_count": null,
   "metadata": {
    "pycharm": {
     "name": "#%%\n"
    }
   },
   "outputs": [],
   "source": [
    "# SOME SPACE FOR YOU TO WORK\n",
    "par_writer(\"\"\"\n",
    "\n",
    "\n",
    "\n",
    "\n",
    "\"\"\")\n",
    "\n",
    "# no need to make a new tim file, we want to use the TOAs that we made already\n",
    "# load the model into PINT\n",
    "timing_model = get_model(\"./pars/mytiming.par\")"
   ]
  },
  {
   "cell_type": "markdown",
   "metadata": {
    "pycharm": {
     "name": "#%% md\n"
    }
   },
   "source": [
    "Let's tell PINT to perform the fit using the Generalized Least Squares (GLS) fitter."
   ]
  },
  {
   "cell_type": "code",
   "execution_count": null,
   "metadata": {
    "pycharm": {
     "name": "#%%\n"
    }
   },
   "outputs": [],
   "source": [
    "# SOME SPACE FOR YOU TO WORK\n",
    "\n"
   ]
  },
  {
   "cell_type": "markdown",
   "metadata": {
    "pycharm": {
     "name": "#%% md\n"
    }
   },
   "source": [
    "Let's look at the residuals and the fitted parameters"
   ]
  },
  {
   "cell_type": "code",
   "execution_count": null,
   "metadata": {
    "pycharm": {
     "name": "#%%\n"
    }
   },
   "outputs": [],
   "source": [
    "# SOME SPACE FOR YOU TO WORK\n",
    "\n",
    "# You can look at the new residuals simply by using .plot() on the fit object\n",
    "fit.plot()\n",
    "\n",
    "# Let's look at the fitted values\n",
    "print(fit.get_allparams()['    '])\n",
    "print(fit.get_allparams()['    '])"
   ]
  },
  {
   "cell_type": "markdown",
   "metadata": {
    "pycharm": {
     "name": "#%% md\n"
    }
   },
   "source": [
    "## Step 3: fitting the paralax"
   ]
  },
  {
   "cell_type": "markdown",
   "metadata": {
    "pycharm": {
     "name": "#%% md\n"
    }
   },
   "source": [
    "The pulsar is at some distance from us, which produces a parallax. The units on the parallax are in milliarcseconds (mas). A pulsar with a parallax of 1 mas is at a distance of 1 kpc (kiloparsec). Let's put a pulsar at 0.5 kpc away, so it will have a parallax of 2.0 mas.\n",
    "\n",
    "`PX     2.0`\n",
    "\n",
    "Then let's see what happens when the pulsar is plotted with the wrong parallax, let's say 5 mas.\n",
    "\n",
    "Instead of making two separate cells, let's condense our work into one cell. Now just call `par_writer()` with the appropriate values, then `make_toas()`, then `par_writer()` again with the slightly adjusted parallax before plotting the residuals."
   ]
  },
  {
   "cell_type": "code",
   "execution_count": null,
   "metadata": {
    "pycharm": {
     "name": "#%%\n"
    }
   },
   "outputs": [],
   "source": [
    "# SOME SPACE FOR YOU TO WORK\n",
    "par_writer(\"\"\"\n",
    "\n",
    "\n",
    "\n",
    "\n",
    "\"\"\")\n",
    "\n",
    "# load the model into PINT\n",
    "timing_model = get_model(\"./pars/mytiming.par\")\n",
    "\n",
    "# create the observations\n",
    "toas = make_toas(timing_model)\n",
    "\n",
    "# Create the timing model with the slightly adjusted parallax\n",
    "par_writer(\"\"\"\n",
    "\n",
    "\n",
    "\n",
    "\"\"\")\n",
    "\n",
    "# load the model into PINT\n",
    "timing_model = get_model(\"./pars/mytiming.par\")\n",
    "\n",
    "# Now let's observe how the residuals change\n",
    "\n",
    "\n",
    "\n"
   ]
  },
  {
   "cell_type": "markdown",
   "metadata": {
    "pycharm": {
     "name": "#%% md\n"
    }
   },
   "source": [
    "What do you notice about the residuals? What is the timescale of the variation?"
   ]
  },
  {
   "cell_type": "code",
   "execution_count": null,
   "metadata": {
    "pycharm": {
     "name": "#%%\n"
    }
   },
   "outputs": [],
   "source": [
    "# Some space for you to work\n",
    "plt.xlim([xt[0], xt[int(len(xt)/5)]])\n",
    "plt.vlines(     , -1, 1, linestyles =\"dotted\", colors =\"r\")\n",
    "plt.vlines(     , -1, 1, linestyles =\"dotted\", colors =\"g\")\n",
    "plt.plot(xt, rs, \"x\")\n",
    "plt.show()"
   ]
  },
  {
   "cell_type": "markdown",
   "metadata": {
    "pycharm": {
     "name": "#%% md\n"
    }
   },
   "source": [
    "It turns out that the \"why\" of this timescale is a little bit more complicated than for an incorrect pulsar position. It has to do with the fact that the pulsar emission arriving at the solar system is not a plane wave but there is some curvature to it.\n",
    "\n",
    "Yet again, let's fit all of the parameters. Then print out the parallax value. How does the precision on this value compare to some of the others you've examined?"
   ]
  },
  {
   "cell_type": "code",
   "execution_count": null,
   "metadata": {
    "pycharm": {
     "name": "#%%\n"
    }
   },
   "outputs": [],
   "source": [
    "# SOME SPACE FOR YOU TO WORK\n",
    "par_writer(\"\"\"\n",
    "\n",
    "\n",
    "\n",
    "\n",
    "\"\"\")\n",
    "\n",
    "# no need to make a new tim file, we want to use the TOAs that we made already\n",
    "# load the model into PINT\n",
    "timing_model = get_model(\"./pars/mytiming.par\")\n",
    "\n",
    "# Let's tell PINT to perform the fit using the Generalized Least Squares (GLS) fitter.\n",
    "\n",
    "\n",
    "\n",
    "\n",
    "\n",
    "# You can look at the new residuals simply by using .plot() on the fit object\n",
    "fit.plot()\n",
    "\n",
    "# Let's look at the fitted values\n",
    "print(fit.get_allparams()['PX'])"
   ]
  },
  {
   "cell_type": "markdown",
   "metadata": {
    "pycharm": {
     "name": "#%% md\n"
    }
   },
   "source": [
    "## Step 4: fitting the proper motion"
   ]
  },
  {
   "cell_type": "markdown",
   "metadata": {
    "pycharm": {
     "name": "#%% md\n"
    }
   },
   "source": [
    "Let's add one more set of astrometric terms, the proper motion in the RA and DEC directions. These are given in units of milliarcseconds per year (mas/yr). In the par file, we write PMRA and PMDEC. Set the true `PMRA` to 50.0 and the `PMDEC` to 0.0 just for ease. Then simulate your TOAs, make a new par file with PMRA set to 51.0, and plot the results.\n",
    "\n",
    "What do you notice about the residuals now? What is happening to the timescale of the variation? Any ideas as to why the structure of the residuals looks the way it does?"
   ]
  },
  {
   "cell_type": "code",
   "execution_count": null,
   "metadata": {
    "pycharm": {
     "name": "#%%\n"
    }
   },
   "outputs": [],
   "source": [
    "# SOME SPACE FOR YOU TO WORK\n",
    "par_writer(\"\"\"\n",
    "\n",
    "\n",
    "\n",
    "\n",
    "\"\"\")\n",
    "\n",
    "# load the model into PINT\n",
    "timing_model = get_model(\"./pars/mytiming.par\")\n",
    "\n",
    "# create the observations\n",
    "toas = make_toas(timing_model)\n",
    "\n",
    "# Create the timing model with the slightly adjusted parallax\n",
    "par_writer(\"\"\"\n",
    "\n",
    "\n",
    "\n",
    "\"\"\")\n",
    "\n",
    "# load the model into PINT\n",
    "timing_model = get_model(\"./pars/mytiming.par\")\n",
    "\n",
    "# Now let's observe how the residuals change\n",
    "\n",
    "\n",
    "\n"
   ]
  },
  {
   "cell_type": "markdown",
   "metadata": {
    "pycharm": {
     "name": "#%% md\n"
    }
   },
   "source": [
    "Once again, let's do the fit! Check to see if the values of the proper motion make sense.\n",
    "\n"
   ]
  },
  {
   "cell_type": "code",
   "execution_count": null,
   "metadata": {
    "pycharm": {
     "name": "#%%\n"
    }
   },
   "outputs": [],
   "source": [
    "# SOME SPACE FOR YOU TO WORK\n",
    "par_writer(\"\"\"\n",
    "\n",
    "\n",
    "\n",
    "\"\"\")\n",
    "\n",
    "# no need to make a new tim file, we want to use the TOAs that we made already\n",
    "# load the model into PINT\n",
    "timing_model = get_model(\"./pars/mytiming.par\")\n",
    "\n",
    "# Let's tell PINT to perform the fit using the Generalized Least Squares (GLS) fitter.\n",
    "\n",
    "\n",
    "\n",
    "\n",
    "\n",
    "\n",
    "# You can look at the new residuals simply by using .plot() on the fit object\n",
    "\n",
    "\n",
    "\n",
    "\n",
    "\n",
    "# Let's look at the fitted values\n",
    "\n",
    "\n"
   ]
  },
  {
   "cell_type": "markdown",
   "metadata": {
    "pycharm": {
     "name": "#%% md\n"
    }
   },
   "source": [
    "## Step 5: let's do some science!"
   ]
  },
  {
   "cell_type": "markdown",
   "metadata": {
    "pycharm": {
     "name": "#%% md\n"
    }
   },
   "source": [
    "Excellent! You now have a description of this pulsar that accounts for the spin dynamics of the pulsar and the astrometry. Let's do some science with our numbers!"
   ]
  },
  {
   "cell_type": "markdown",
   "metadata": {
    "pycharm": {
     "name": "#%% md\n"
    }
   },
   "source": [
    "First, to make things easy, let's convert from $f$ and $\\dot{f}$ to $P$ and $\\dot{P}$. We have by definition that the spin period and frequency are related by $P = 1/f$. Using some calculus, then we have that\n",
    "\n",
    "$$\\frac{dP}{df} = -\\frac{1}{f^2},$$\n",
    "\n",
    "and therefore\n",
    "\n",
    "$$\\dot{P} = -\\frac{\\dot{f}}{f^2}.$$\n",
    "\n",
    "Use the value of $P$ given above (or re-calculate it) and calculate $\\dot{P}$. Note that the units of $\\dot{P}$ are seconds per seconds.\n",
    "\n",
    "**Hint** : if you wanna extract, say, the value of `F0` from the fitted timing model, you can do\n",
    "\n",
    "`fit.get_allparams()['F0'].value`"
   ]
  },
  {
   "cell_type": "code",
   "execution_count": null,
   "metadata": {
    "pycharm": {
     "name": "#%%\n"
    }
   },
   "outputs": [],
   "source": [
    "# Some space for you to work\n",
    "\n",
    "P = 1 / )\n",
    "P_dot =\n",
    "print(\"P = \" +str(P) + \" s\")\n",
    "print(\"P_dot = \" + str(P_dot) + ' s/s')"
   ]
  },
  {
   "cell_type": "markdown",
   "metadata": {
    "pycharm": {
     "name": "#%% md\n"
    }
   },
   "source": [
    "Let's calculate the system's rate of energy loss, given by (see Lorimer & Kramer 2005)\n",
    "\n",
    "$$\\dot{E} = 4 \\pi^2 I \\dot{P} P^{-3} \\simeq 3.95 \\times 10^{31}~\\mathrm{erg~s^{-1}}\\left(\\frac{\\dot{P}}{10^{-15}}\\right)\\left(\\frac{P}{\\mathrm{s}}\\right)^{-3}$$\n",
    "\n",
    "How does this compare to the luminosity of the Sun ($4.0 \\times 10^{33}~\\mathrm{erg~s^{-1}}$)?"
   ]
  },
  {
   "cell_type": "code",
   "execution_count": null,
   "metadata": {
    "pycharm": {
     "name": "#%%\n"
    }
   },
   "outputs": [],
   "source": [
    "# Some space for you to work\n",
    "\n",
    "E_dot =\n",
    "print(\"E_dot = \" + str(E_dot) + \" erg/s = \" + str(E_dot/(4.0e33)) + \" L_sun\")"
   ]
  },
  {
   "cell_type": "markdown",
   "metadata": {
    "pycharm": {
     "name": "#%% md\n"
    }
   },
   "source": [
    "Now let's calculate the surface magnetic field of the pulsar, given by\n",
    "\n",
    "$$ B_s = 3.2 \\times 10^{19}~\\mathrm{G} \\sqrt{P \\dot{P}} \\simeq 10^{12}~\\mathrm{G}~\\left(\\frac{\\dot{P}}{10^{-15}}\\right)^{1/2} \\left(\\frac{P}{\\mathrm{s}}\\right)^{1/2} $$\n",
    "\n",
    "For reference, Earth's magnetic field is usually around $\\lesssim 1~\\mathrm{G}$!"
   ]
  },
  {
   "cell_type": "code",
   "execution_count": null,
   "metadata": {
    "pycharm": {
     "name": "#%%\n"
    }
   },
   "outputs": [],
   "source": [
    "# Some space for you to work\n",
    "import math\n",
    "\n",
    "B =\n",
    "print(\"B = \" + str(B) + \" G\")"
   ]
  }
 ],
 "metadata": {
  "kernelspec": {
   "display_name": "Python 3 (ipykernel)",
   "language": "python",
   "name": "python3"
  },
  "language_info": {
   "codemirror_mode": {
    "name": "ipython",
    "version": 3
   },
   "file_extension": ".py",
   "mimetype": "text/x-python",
   "name": "python",
   "nbconvert_exporter": "python",
   "pygments_lexer": "ipython3",
   "version": "3.9.16"
  }
 },
 "nbformat": 4,
 "nbformat_minor": 1
}
