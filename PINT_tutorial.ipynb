{
 "cells": [
  {
   "cell_type": "markdown",
   "metadata": {
    "pycharm": {
     "name": "#%% md\n"
    }
   },
   "source": [
    "# Welcome to PINT (Pint is not Tempo3)!\n",
    "\n",
    "![test.png](./images/computer_problems.png)"
   ]
  },
  {
   "cell_type": "markdown",
   "metadata": {
    "pycharm": {
     "name": "#%% md\n"
    }
   },
   "source": [
    "## Part 0: Timing review\n",
    "\n",
    "The power of pulsar timing comes from the ability to precisely predict when pulses will arrive at our telescope. The \"timing model\" combines parameters describing how the pulsar spins, how the pulsar moves across the sky, how the pulsar orbits around a companion, and how the interstellar medium affects the intrinsic pulse as it propagates through. We can visualize this as follows:\n",
    "\n",
    "![test.png](./images/timing.png)\n",
    "\n",
    "We see that we must account for the position of the telescope on the Earth and as it goes around the Sun. Similarly, we need to account for where the pulsar is in its binary orbit. The arrows show that the two systems are moving with respect to each other in the Galaxy. And, as there is material in the interstellar medium, a single broadband pulse then spreads out in frequencies due to dispersion, such that longer wavelengths (red) arrive later than shorter wavelengths (blue).\n",
    "\n",
    "![test.png](./images/pulse_train3.png)\n",
    "\n",
    "A good model (*top*) will be able to predict when the pulses arrive exactly whereas a bad model (*middle*) will not. In that case, our mission is to \"tweak\" the parameters of the timing model until our predictions match the observed pulses (*bottom*).\n",
    "\n",
    "The predictions made by the timing model are the result of *very* arduous mathematical calculations to account for all physical phenomena affecting the pulses (see Lorimer & Kramer 2005):\n",
    "\n",
    "$ t_{\\mathrm{predicted}} = t_{\\mathrm{topo}} + t_{\\mathrm{corr}} - \\Delta D / f^2 + \\Delta_{\\mathrm{R \\odot}} + \\Delta_{\\mathrm{S \\odot}} + \\Delta_{\\mathrm{E \\odot}} + \\Delta_{\\mathrm{RB \\odot}} + \\Delta_{\\mathrm{SB \\odot}} + \\Delta_{\\mathrm{EB \\odot}} + \\Delta_{\\mathrm{AB \\odot}} $\n",
    "\n",
    "The difference between the observed time of arrival (TOA) of a pulse and the predicted arrival time is known as a **timing residual**, and plots of residuals help us visualize whether or not we have a good model or not. If we have a good timing model, able to correctly predict the observed times of arrival, the residuals should be randomly distributed close to zero:\n",
    "\n",
    "![test.png](./images/examples_time_a_pulsar_17_0.png)\n",
    "\n",
    "**GOOD NEWS**: *Luckily for us, we don't need to perform all these calculations and make the plots by hand (yay!!!) Instead, there are computer codes that do the math-heavy part of the work for us. However, we need to learn how to use them.*\n"
   ]
  },
  {
   "cell_type": "markdown",
   "metadata": {
    "pycharm": {
     "name": "#%% md\n"
    }
   },
   "source": [
    "## Part 1: Introduction to PINT\n",
    "\n",
    "PINT (Pint is not Tempo3) is the state-of-art software for performing pulsar analysis. It is based on **Object-oriented programming**, a computer programming style that organizes software design around data, or objects, rather than functions and logic. An object can be defined as a data field that has unique attributes and behavior.\n",
    "\n",
    "The structure, or building blocks, of object-oriented programming include the following:\n",
    "\n",
    "- **Classes** are user-defined data types that act as the blueprint for individual objects, attributes and methods.\n",
    "- **Objects** are instances of a class created with specifically defined data. Objects can correspond to real-world objects or an abstract entity.\n",
    "- **Methods** are functions that are defined inside a class that describe the behaviors of an object. Each method contained in class definitions starts with a reference to an instance object: `object.method()`. Programmers use methods for reusability or keeping functionality encapsulated inside one object at a time.\n",
    "- **Attributes** are defined in the class template and represent the state of an object. Objects will have data stored in the attributes field, and can be called using `object.attribute`.\n",
    "\n",
    "For example, in the world of Pokemon:\n",
    "\n",
    "- **Pokemon** would be a *class*.\n",
    "- **Pikachu** would be an *object* within that class.\n",
    "- A Pikachu has different *atributes*, like a **name** (Pikachu), a **type** (electric), and a **health** (70).\n",
    "- A Pikachu can also do different actions or *methods*, like **attacking**, **dodging**, and **evolving**.\n",
    "\n",
    "\n",
    "![test.png](./images/pikachu.jpg)"
   ]
  },
  {
   "cell_type": "markdown",
   "metadata": {
    "pycharm": {
     "name": "#%% md\n"
    }
   },
   "source": [
    "## Part 2: Loading observations into PINT"
   ]
  },
  {
   "cell_type": "markdown",
   "metadata": {
    "pycharm": {
     "name": "#%% md\n"
    }
   },
   "source": [
    "First things first, let's load a set of pulsar observations into PINT. Let's import a few basic packages:"
   ]
  },
  {
   "cell_type": "code",
   "execution_count": 1,
   "metadata": {
    "pycharm": {
     "name": "#%%\n"
    }
   },
   "outputs": [
    {
     "data": {
      "text/plain": [
       "1"
      ]
     },
     "execution_count": 1,
     "metadata": {},
     "output_type": "execute_result"
    }
   ],
   "source": [
    "import matplotlib.pyplot as plt\n",
    "from pint.toa import get_TOAs\n",
    "from pint.models import get_model\n",
    "from pint.residuals import Residuals\n",
    "import pint.fitter\n",
    "import astropy.units as u\n",
    "\n",
    "import pint.logging\n",
    "pint.logging.setup(\"ERROR\")"
   ]
  },
  {
   "cell_type": "markdown",
   "metadata": {
    "pycharm": {
     "name": "#%% md\n"
    }
   },
   "source": [
    "Our observations are contained in the file `NGC6440E.tim`. Let's import them using the `get_TOAs` function, by doing something life:\n",
    "\n",
    "`my_toas = get_TOAs(path-to-the-file, ephem='DE440')`\n",
    "\n",
    "where `path-to-the-file` in this case is `./files/NGC6440E.tim`."
   ]
  },
  {
   "cell_type": "code",
   "execution_count": null,
   "metadata": {
    "pycharm": {
     "name": "#%%\n"
    }
   },
   "outputs": [],
   "source": [
    "# SOME SPACE FOR YOU TO WORK\n",
    "\n",
    "my_toas =\n"
   ]
  },
  {
   "cell_type": "markdown",
   "metadata": {
    "pycharm": {
     "name": "#%% md\n"
    }
   },
   "source": [
    "- `my_toas` will be a PINT object that contains all the information about the observations.\n",
    "\n",
    "Let's take a look at what the observations look like. TOAs are stored in an instance of the `TOAs` class, which in turn has a `table` method:"
   ]
  },
  {
   "cell_type": "code",
   "execution_count": null,
   "metadata": {
    "pycharm": {
     "name": "#%%\n"
    }
   },
   "outputs": [],
   "source": [
    "print(my_toas.table['freq', 'mjd', 'error', 'obs'])"
   ]
  },
  {
   "cell_type": "markdown",
   "metadata": {
    "pycharm": {
     "name": "#%% md\n"
    }
   },
   "source": [
    "These tables allow us to do **fancy** sorting, selecting, re-arranging very easily. Imagine we want observations with errors smaller than $20~\\mu s$. We can first extract the errors by doing\n",
    "\n",
    "`my_toas.get_errors()`\n",
    "\n",
    "and then we can create a \"mask\" with the observations that fulfill this condition by doing:\n",
    "\n",
    "`my_toas.get_errors() < 20 * u.us`"
   ]
  },
  {
   "cell_type": "code",
   "execution_count": null,
   "metadata": {
    "pycharm": {
     "name": "#%%\n"
    }
   },
   "outputs": [],
   "source": [
    "# SOME SPACE FOR YOU TO WORK\n",
    "\n",
    "select =\n",
    "\n",
    "print(my_toas.table['freq', 'mjd', 'error', 'obs'][select])"
   ]
  },
  {
   "cell_type": "markdown",
   "metadata": {
    "pycharm": {
     "name": "#%% md\n"
    }
   },
   "source": [
    "This is a lot of information! Let's print a quick summary:"
   ]
  },
  {
   "cell_type": "code",
   "execution_count": null,
   "metadata": {
    "pycharm": {
     "name": "#%%\n"
    }
   },
   "outputs": [],
   "source": [
    "my_toas.print_summary()"
   ]
  },
  {
   "cell_type": "markdown",
   "metadata": {
    "pycharm": {
     "name": "#%% md\n"
    }
   },
   "source": [
    "What do you see?\n",
    "- How many observations do we have?\n",
    "- What's the smallest frequency.\n",
    "- What's the largest frequency."
   ]
  },
  {
   "cell_type": "markdown",
   "metadata": {
    "pycharm": {
     "name": "#%% md\n"
    }
   },
   "source": [
    "## Part 3: Timing models in PINT\n",
    "\n",
    "### 3.1. Importing a timing model"
   ]
  },
  {
   "cell_type": "markdown",
   "metadata": {
    "pycharm": {
     "name": "#%% md\n"
    }
   },
   "source": [
    "The parameters defining the timing model are in the file `NGC6440E.par`. Let's import them using the `get_model` function:\n",
    "\n",
    "`my_timing_model = get_model(path-to-your-file)`"
   ]
  },
  {
   "cell_type": "code",
   "execution_count": null,
   "metadata": {
    "pycharm": {
     "name": "#%%\n"
    }
   },
   "outputs": [],
   "source": [
    "# SOME SPACE FOR YOU TO WORK\n",
    "\n",
    "my_timing_model ="
   ]
  },
  {
   "cell_type": "markdown",
   "metadata": {
    "pycharm": {
     "name": "#%% md\n"
    }
   },
   "source": [
    "- `my_timing_model` will be a PINT object that contains all the information about the timing model.\n",
    "\n",
    "Let's take a look at what the timing parameters look like:"
   ]
  },
  {
   "cell_type": "code",
   "execution_count": null,
   "metadata": {
    "pycharm": {
     "name": "#%%\n"
    }
   },
   "outputs": [],
   "source": [
    "print(my_timing_model)"
   ]
  },
  {
   "cell_type": "markdown",
   "metadata": {
    "pycharm": {
     "name": "#%% md\n"
    }
   },
   "source": [
    "### 3.2. Components of a timing model"
   ]
  },
  {
   "cell_type": "markdown",
   "metadata": {
    "pycharm": {
     "name": "#%% md\n"
    }
   },
   "source": [
    "Timing models are composed of “delay” terms and “phase” terms, which are computed by the Components of the model."
   ]
  },
  {
   "cell_type": "code",
   "execution_count": null,
   "metadata": {
    "pycharm": {
     "name": "#%%\n"
    }
   },
   "outputs": [],
   "source": [
    "# This gives a list of all of the component types (so far there are only delay and phase components)\n",
    "print(my_timing_model.component_types)"
   ]
  },
  {
   "cell_type": "markdown",
   "metadata": {
    "pycharm": {
     "name": "#%% md\n"
    }
   },
   "source": [
    "- The **delay** terms are evaluated in order, going from terms local to the Solar System, which are needed for computing ‘barycenter-corrected’ TOAs, through terms for the binary system."
   ]
  },
  {
   "cell_type": "code",
   "execution_count": null,
   "metadata": {
    "pycharm": {
     "name": "#%%\n"
    }
   },
   "outputs": [],
   "source": [
    "# delay_funcs lists all the delay functions in the model, and the order is important!\n",
    "print(my_timing_model.delay_funcs)"
   ]
  },
  {
   "cell_type": "markdown",
   "metadata": {
    "pycharm": {
     "name": "#%% md\n"
    }
   },
   "source": [
    "- The **phase** functions include the spindown model and an absolute phase definition."
   ]
  },
  {
   "cell_type": "code",
   "execution_count": null,
   "metadata": {
    "pycharm": {
     "name": "#%%\n"
    }
   },
   "outputs": [],
   "source": [
    "# And phase_funcs holds a list of all the phase functions\n",
    "print(my_timing_model.phase_funcs)"
   ]
  },
  {
   "cell_type": "markdown",
   "metadata": {
    "pycharm": {
     "name": "#%% md\n"
    }
   },
   "source": [
    "Each parameter has attributes like the quantity (which includes units). Try printing\n",
    "\n",
    "`my_timing_model.F0.quantity`\n",
    "\n",
    "and\n",
    "\n",
    "`my_timing_model.F0.description`"
   ]
  },
  {
   "cell_type": "code",
   "execution_count": null,
   "metadata": {
    "pycharm": {
     "name": "#%%\n"
    }
   },
   "outputs": [],
   "source": [
    "# SOME SPACE FOR YOU TO WORK\n",
    "\n",
    "print(  )\n",
    "print(  )"
   ]
  },
  {
   "cell_type": "markdown",
   "metadata": {
    "pycharm": {
     "name": "#%% md\n"
    }
   },
   "source": [
    "In a similar fashion, each parameter has attributes that specify the name and type of the parameter, its units, and the uncertainty.\n",
    "\n",
    "- Note: The `par.quantity` and `par.uncertainty` are both astropy quantities with units. If you need the bare values, access `par.value` and `par.uncertainty_value`, which will be numerical values in the units of `par.units`. Try doing that!"
   ]
  },
  {
   "cell_type": "code",
   "execution_count": null,
   "metadata": {
    "pycharm": {
     "name": "#%%\n"
    }
   },
   "outputs": [],
   "source": [
    "# SOME SPACE FOR YOU TO WORK\n",
    "\n",
    "print(   )"
   ]
  },
  {
   "cell_type": "markdown",
   "metadata": {
    "pycharm": {
     "name": "#%% md\n"
    }
   },
   "source": [
    "Let’s look at those for each of the types of parameters in this model."
   ]
  },
  {
   "cell_type": "code",
   "execution_count": null,
   "metadata": {
    "pycharm": {
     "name": "#%%\n"
    }
   },
   "outputs": [],
   "source": [
    "printed = []\n",
    "for p in my_timing_model.params:\n",
    "    par = getattr(my_timing_model, p)\n",
    "    if type(par) in printed:\n",
    "        continue\n",
    "    print(\"Name           \", par.name)\n",
    "    print(\"Type           \", type(par))\n",
    "    print(\"Quantity       \", par.quantity, type(par.quantity))\n",
    "    print(\"Value          \", par.value)\n",
    "    print(\"units          \", par.units)\n",
    "    print(\"Uncertainty    \", par.uncertainty)\n",
    "    print(\"Uncertainty_value\", par.uncertainty_value)\n",
    "    print(\"Summary        \", par)\n",
    "    print(\"Parfile Style  \", par.as_parfile_line())\n",
    "    print()"
   ]
  },
  {
   "cell_type": "markdown",
   "metadata": {
    "pycharm": {
     "name": "#%% md\n"
    }
   },
   "source": [
    "What do you see?\n",
    "- What is the value of the dispersion measure (DM)?\n",
    "- What is the associated error?"
   ]
  },
  {
   "cell_type": "markdown",
   "metadata": {
    "pycharm": {
     "name": "#%% md\n"
    }
   },
   "source": [
    "## Part 4: Timing a pulsar"
   ]
  },
  {
   "cell_type": "markdown",
   "metadata": {
    "pycharm": {
     "name": "#%% md\n"
    }
   },
   "source": [
    "### 4.1. Calculating residuals"
   ]
  },
  {
   "cell_type": "markdown",
   "metadata": {
    "pycharm": {
     "name": "#%% md\n"
    }
   },
   "source": [
    "Plotting time! Let's calculate and then plot the residuals (in microseconds) as a function of the observing time (in Modified Julian Date).\n",
    "- We can easily calculate residuals using PINT's `Residual` function, which takes two arguments: a `TOAs` object and a `model` object:\n",
    "\n",
    "`residuals_object = Residuals(TOAs, model)`"
   ]
  },
  {
   "cell_type": "code",
   "execution_count": null,
   "metadata": {
    "pycharm": {
     "name": "#%%\n"
    }
   },
   "outputs": [],
   "source": [
    "# SOME SPACE FOR YOU TO WORK\n",
    "# Hint: remember that the toas are under the variable `my_toas` and the model is under `my_timing_model` !\n",
    "\n",
    "rs ="
   ]
  },
  {
   "cell_type": "markdown",
   "metadata": {
    "pycharm": {
     "name": "#%% md\n"
    }
   },
   "source": [
    "What happens if you try to print this new residuals object? Try it!"
   ]
  },
  {
   "cell_type": "code",
   "execution_count": null,
   "metadata": {
    "pycharm": {
     "name": "#%%\n"
    }
   },
   "outputs": [],
   "source": [
    "print(rs)"
   ]
  },
  {
   "cell_type": "markdown",
   "metadata": {
    "pycharm": {
     "name": "#%% md\n"
    }
   },
   "source": [
    "Note that the resulting Residuals object contains the residuals, but in order to access them we must use the `.phase_resids` attribute at the end of the residuals object:\n",
    "\n",
    "`Residuals(toas, model).phase_resids`"
   ]
  },
  {
   "cell_type": "code",
   "execution_count": null,
   "metadata": {
    "pycharm": {
     "name": "#%%\n"
    }
   },
   "outputs": [],
   "source": [
    "# SOME SPACE FOR YOU TO WORK\n",
    "\n",
    "rs =\n",
    "print(rs)"
   ]
  },
  {
   "cell_type": "markdown",
   "metadata": {
    "pycharm": {
     "name": "#%% md\n"
    }
   },
   "source": [
    "Now let's plot the residuals. First, let extract the TOAs values and the associated errors:"
   ]
  },
  {
   "cell_type": "code",
   "execution_count": null,
   "metadata": {
    "pycharm": {
     "name": "#%%\n"
    }
   },
   "outputs": [],
   "source": [
    "xt = my_toas.get_mjds()\n",
    "errors = my_toas.get_errors().to(u.us).value"
   ]
  },
  {
   "cell_type": "markdown",
   "metadata": {
    "pycharm": {
     "name": "#%% md\n"
    }
   },
   "source": [
    "Now do the plot:"
   ]
  },
  {
   "cell_type": "code",
   "execution_count": null,
   "metadata": {
    "pycharm": {
     "name": "#%%\n"
    }
   },
   "outputs": [],
   "source": [
    "# SOME SPACE FOR YOU TO WORK\n",
    "\n",
    "plt.figure()\n",
    "plt.errorbar(            , yerr=errors, fmt ='o')\n",
    "plt.title(\"%s Pre-Fit Timing Residuals\" % my_timing_model.PSR.value)\n",
    "plt.xlabel(\"MJD\")\n",
    "plt.ylabel(\"Residual ($\\mu s$)\")\n",
    "plt.grid()"
   ]
  },
  {
   "cell_type": "markdown",
   "metadata": {
    "pycharm": {
     "name": "#%% md\n"
    }
   },
   "source": [
    "Wow, those error bars are way too big. Let's discard the data points with uncertainties $\\gt 30.0 \\mu s$ - uncertainty estimation is not always reliable when the signal-to-noise is low."
   ]
  },
  {
   "cell_type": "code",
   "execution_count": null,
   "metadata": {
    "pycharm": {
     "name": "#%%\n"
    }
   },
   "outputs": [],
   "source": [
    "# SOME SPACE FOR YOU TO WORK\n",
    "\n",
    "error_ok =                                                 # Flag all the observations with error bars bigger than 0.1 us\n",
    "my_new_toas = my_toas[error_ok]                            # Keep only the ones that pass the check\n",
    "my_new_toas.print_summary()                                # Print a summary of the new data set"
   ]
  },
  {
   "cell_type": "markdown",
   "metadata": {
    "pycharm": {
     "name": "#%% md\n"
    }
   },
   "source": [
    "Now let's calculate and plot residuals again"
   ]
  },
  {
   "cell_type": "code",
   "execution_count": null,
   "metadata": {
    "pycharm": {
     "name": "#%%\n"
    }
   },
   "outputs": [],
   "source": [
    "# SOME SPACE FOR YOU TO WORK\n",
    "\n",
    "rs =\n",
    "new_xt =\n",
    "errors =\n",
    "plt.plot(    ,    ,\"x\")\n",
    "plt.show()"
   ]
  },
  {
   "cell_type": "markdown",
   "metadata": {
    "pycharm": {
     "name": "#%% md\n"
    }
   },
   "source": [
    "Huh, that's weird. The residuals are not randomly distributed close to zero. Instead, they show some periodic oscillation. I wonder if we could fix that!"
   ]
  },
  {
   "cell_type": "markdown",
   "metadata": {
    "pycharm": {
     "name": "#%% md\n"
    }
   },
   "source": [
    "### 4.2. Fitting a timing model\n",
    "\n",
    "In order to fix our model, we need to modify the timing parameters so that they actually fit the observed TOAs. In order to do that, we need to use a *fitting algorithm*. There are several fitters in $\\texttt{PINT}$, each of which is a subclass of `Fitter`. The most important are:\n",
    "\n",
    "- `WLSFitter` - PINT’s workhorse fitter, which does a basic Weighted Least-Squares (WLS) minimization of the residuals.\n",
    "\n",
    "- `GLSFitter` - A Generalized Least-Squares (GLS) fitter, that can handle noise processes like correlated noise and red noise.\n",
    "\n",
    "Let's use a WLS Fitter to fix our timing model. The return value of most fitters is the final chi^2 value. The general syntax is\n",
    "\n",
    "`pint.fitter.WLSFitter(toas, model)`"
   ]
  },
  {
   "cell_type": "code",
   "execution_count": null,
   "metadata": {
    "pycharm": {
     "name": "#%%\n"
    }
   },
   "outputs": [],
   "source": [
    "# SOME SPACE FOR YOU TO WORK\n",
    "\n",
    "# Instantiate a fitter\n",
    "wlsfit = pint.fitter.WLSFitter(toas=    , model=    )\n",
    "\n",
    "# A fit is performed by calling fit_toas()\n",
    "wlsfit.fit_toas(maxiter=5)"
   ]
  },
  {
   "cell_type": "markdown",
   "metadata": {
    "pycharm": {
     "name": "#%% md\n"
    }
   },
   "source": [
    "A summary of the fit and resulting model parameters can easily be printed. Only free parameters will have values and uncertainties in the Postfit column"
   ]
  },
  {
   "cell_type": "code",
   "execution_count": null,
   "metadata": {
    "pycharm": {
     "name": "#%%\n"
    }
   },
   "outputs": [],
   "source": [
    "wlsfit.print_summary()"
   ]
  },
  {
   "cell_type": "markdown",
   "metadata": {
    "pycharm": {
     "name": "#%% md\n"
    }
   },
   "source": [
    "- What is the value of the right ascension (RAJ) before and after the fit?\n",
    "- What is the value of the spin frequency (F0) before and after the fit?"
   ]
  },
  {
   "cell_type": "markdown",
   "metadata": {
    "pycharm": {
     "name": "#%% md\n"
    }
   },
   "source": [
    "Let's plot the residuals and compare"
   ]
  },
  {
   "cell_type": "code",
   "execution_count": null,
   "metadata": {
    "pycharm": {
     "name": "#%%\n"
    }
   },
   "outputs": [],
   "source": [
    "plt.figure()\n",
    "plt.errorbar(\n",
    "    new_xt.value,\n",
    "    wlsfit.resids.time_resids.to(u.us).value,\n",
    "    my_new_toas.get_errors().to(u.us).value,\n",
    "    fmt=\"x\",\n",
    ")\n",
    "plt.title(\"%s Post-Fit Timing Residuals\" % my_timing_model.PSR.value)\n",
    "plt.xlabel(\"MJD\")\n",
    "plt.ylabel(\"Residual (us)\")\n",
    "plt.grid()"
   ]
  },
  {
   "cell_type": "markdown",
   "metadata": {
    "pycharm": {
     "name": "#%% md\n"
    }
   },
   "source": [
    "There also a convenience function for plotting the residuals with the new timing model."
   ]
  },
  {
   "cell_type": "code",
   "execution_count": null,
   "metadata": {
    "pycharm": {
     "name": "#%%\n"
    }
   },
   "outputs": [],
   "source": [
    "wlsfit.plot()"
   ]
  },
  {
   "cell_type": "markdown",
   "metadata": {
    "pycharm": {
     "name": "#%% md\n"
    }
   },
   "source": [
    "Now that looks so much better!"
   ]
  }
 ],
 "metadata": {
  "kernelspec": {
   "display_name": "Python 3 (ipykernel)",
   "language": "python",
   "name": "python3"
  },
  "language_info": {
   "codemirror_mode": {
    "name": "ipython",
    "version": 3
   },
   "file_extension": ".py",
   "mimetype": "text/x-python",
   "name": "python",
   "nbconvert_exporter": "python",
   "pygments_lexer": "ipython3",
   "version": "3.11.3"
  }
 },
 "nbformat": 4,
 "nbformat_minor": 1
}
